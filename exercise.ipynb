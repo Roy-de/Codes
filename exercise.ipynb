{
 "cells": [
  {
   "cell_type": "code",
   "execution_count": 4,
   "metadata": {},
   "outputs": [],
   "source": [
    "import random"
   ]
  },
  {
   "cell_type": "code",
   "execution_count": 39,
   "metadata": {},
   "outputs": [
    {
     "name": "stdout",
     "output_type": "stream",
     "text": [
      "150\n",
      "965\n",
      "743\n"
     ]
    }
   ],
   "source": [
    "for i in range(3):\n",
    "    num = random.randint(0,1000)\n",
    "    if(num % 6 != 0):\n",
    "           num = random.randint(0,1000)\n",
    "    print(num)\n",
    "    "
   ]
  },
  {
   "cell_type": "code",
   "execution_count": 61,
   "metadata": {},
   "outputs": [
    {
     "name": "stdout",
     "output_type": "stream",
     "text": [
      "m\n"
     ]
    }
   ],
   "source": [
    "string = \"Computer Science\"\n",
    "\n",
    "print(random.choice(string))"
   ]
  },
  {
   "cell_type": "code",
   "execution_count": 38,
   "metadata": {},
   "outputs": [
    {
     "name": "stdout",
     "output_type": "stream",
     "text": [
      "25.04998915793648\n",
      "28.319028640144456\n",
      "43.57787555267808\n",
      "16.393368678987486\n",
      "47.299854740458656\n",
      "20.92064319886414\n",
      "31.10534916968178\n",
      "25.188371635311963\n",
      "46.01847695863816\n",
      "15.574863280921324\n",
      "45.196925358012024\n",
      "43.246106065291215\n",
      "46.4430071279584\n",
      "49.222089222254525\n",
      "20.44903768217613\n",
      "17.367569076116553\n",
      "16.79668527256524\n",
      "40.872202263249314\n",
      "3.5468980223329005\n",
      "3.106591141878501\n",
      "45.73361506150054\n",
      "34.0981924521297\n",
      "10.745828768298459\n",
      "5.467376912572297\n",
      "18.58812816062151\n",
      "12.072529002514603\n",
      "5.850391927406684\n",
      "40.68405571095352\n",
      "40.33758989424637\n",
      "49.02260180913379\n",
      "8.071542547287875\n",
      "0.8772220252309615\n",
      "8.107130530377194\n",
      "6.980167147413269\n",
      "36.82436364743799\n",
      "2.7191712089709217\n",
      "37.695626056861386\n",
      "47.45811060051782\n",
      "24.439390588374195\n",
      "48.31580645193081\n",
      "8.116701403543841\n",
      "34.39997528629713\n",
      "49.08319217925427\n",
      "48.9953229938164\n",
      "28.47435996649852\n",
      "36.381342596946105\n",
      "17.717758852287137\n",
      "3.190597911454962\n",
      "40.08255102469512\n",
      "17.020890628403695\n"
     ]
    }
   ],
   "source": [
    "tickets = []\n",
    "for i in range(50):\n",
    "    num = random.uniform(0,50)\n",
    "    print(num)\n",
    "    tickets[i] = tickets.insert(i,random.uniform(0,50))\n",
    "    "
   ]
  }
 ],
 "metadata": {
  "kernelspec": {
   "display_name": "Python 3",
   "language": "python",
   "name": "python3"
  },
  "language_info": {
   "codemirror_mode": {
    "name": "ipython",
    "version": 3
   },
   "file_extension": ".py",
   "mimetype": "text/x-python",
   "name": "python",
   "nbconvert_exporter": "python",
   "pygments_lexer": "ipython3",
   "version": "3.9.2"
  },
  "orig_nbformat": 4
 },
 "nbformat": 4,
 "nbformat_minor": 2
}
