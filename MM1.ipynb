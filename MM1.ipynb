{
 "cells": [
  {
   "cell_type": "code",
   "execution_count": 1,
   "metadata": {},
   "outputs": [],
   "source": [
    "lambda_ = 4\n",
    "mu = 5"
   ]
  },
  {
   "cell_type": "code",
   "execution_count": 2,
   "metadata": {},
   "outputs": [],
   "source": [
    "def Pa(lambda_,mu):\n",
    "    return lambda_/(mu+lambda_)\n",
    "\n",
    "V1 = Pa(lambda_,mu)"
   ]
  },
  {
   "cell_type": "code",
   "execution_count": 3,
   "metadata": {},
   "outputs": [],
   "source": [
    "def Rate(lambda_,mu):\n",
    "    return lambda_+mu\n",
    "\n",
    "V2 = Rate(lambda_,mu)"
   ]
  },
  {
   "cell_type": "code",
   "execution_count": 8,
   "metadata": {},
   "outputs": [],
   "source": [
    "\n",
    "from cmath import log\n",
    "from random import random, seed\n",
    "\n",
    "\n",
    "def generate_MM1(lambda_=4, mu=5, N0=5, Tmax=200):\n",
    "    \"\"\"\n",
    "    function generate_MM1(N0 = 5,Tmax=200)\n",
    "    generates an MM1 file\n",
    "    INPUTS\n",
    "    ------\n",
    "    lambda, mu: arrival and departure rates\n",
    "    N0:         initial state of the system (default = 5)\n",
    "    Tmax:       duration of the observation (default = 200)\n",
    "    OUTPUTS\n",
    "    -------\n",
    "    T:          list of time of events (arrivals or departures) over [0,T]\n",
    "    N:          list of system states (at T(t): N->N+1 or N->N-1)\n",
    "    \"\"\"\n",
    "    seed(20)\n",
    "    tau = 0       # initial instant\n",
    "    T = [0]     # list of instants of events\n",
    "    N = [N0]    # initial state of the system, list of state evolutions\n",
    "\n",
    "    while T[-1] < Tmax:\n",
    "        if N[-1] == 0:\n",
    "            tau = -1./lambda_*log(random())  # inter-event time when N(t)=0\n",
    "            event = 1   # arrival\n",
    "        else:\n",
    "            # inter-event time when N(t)>0\n",
    "            tau = -1./Rate(lambda_, mu)*log(random())\n",
    "            event = 2*(random() < Pa(lambda_, mu))-1\n",
    "            # +1 for an arrival (with probability Pa), -1 for a departure\n",
    "        N = N + [N[-1]+event]\n",
    "        T = T + [T[-1]+tau]\n",
    "\n",
    "    T = T[:-1]  # event after Tmax is discarded\n",
    "    N = N[:-1]\n",
    "    return T, N"
   ]
  },
  {
   "cell_type": "code",
   "execution_count": 9,
   "metadata": {},
   "outputs": [
    {
     "ename": "TypeError",
     "evalue": "'<' not supported between instances of 'complex' and 'int'",
     "output_type": "error",
     "traceback": [
      "\u001b[0;31m---------------------------------------------------------------------------\u001b[0m",
      "\u001b[0;31mTypeError\u001b[0m                                 Traceback (most recent call last)",
      "Cell \u001b[0;32mIn[9], line 5\u001b[0m\n\u001b[1;32m      1\u001b[0m \u001b[39mfrom\u001b[39;00m \u001b[39mmatplotlib\u001b[39;00m \u001b[39mimport\u001b[39;00m \u001b[39m*\u001b[39m\n\u001b[1;32m      2\u001b[0m \u001b[39mfrom\u001b[39;00m \u001b[39mmatplotlib\u001b[39;00m\u001b[39m.\u001b[39;00m\u001b[39mpyplot\u001b[39;00m \u001b[39mimport\u001b[39;00m plot, xlabel, ylabel\n\u001b[0;32m----> 5\u001b[0m T,N \u001b[39m=\u001b[39m generate_MM1()\n\u001b[1;32m      6\u001b[0m rcParams[\u001b[39m'\u001b[39m\u001b[39mfigure.figsize\u001b[39m\u001b[39m'\u001b[39m] \u001b[39m=\u001b[39m [\u001b[39m15\u001b[39m,\u001b[39m3\u001b[39m]\n\u001b[1;32m      7\u001b[0m plot(T,N,\u001b[39m'\u001b[39m\u001b[39m.b\u001b[39m\u001b[39m'\u001b[39m)\n",
      "Cell \u001b[0;32mIn[8], line 24\u001b[0m, in \u001b[0;36mgenerate_MM1\u001b[0;34m(lambda_, mu, N0, Tmax)\u001b[0m\n\u001b[1;32m     21\u001b[0m T \u001b[39m=\u001b[39m [\u001b[39m0\u001b[39m]     \u001b[39m# list of instants of events\u001b[39;00m\n\u001b[1;32m     22\u001b[0m N \u001b[39m=\u001b[39m [N0]    \u001b[39m# initial state of the system, list of state evolutions\u001b[39;00m\n\u001b[0;32m---> 24\u001b[0m \u001b[39mwhile\u001b[39;00m T[\u001b[39m-\u001b[39;49m\u001b[39m1\u001b[39;49m] \u001b[39m<\u001b[39;49m Tmax:\n\u001b[1;32m     25\u001b[0m     \u001b[39mif\u001b[39;00m N[\u001b[39m-\u001b[39m\u001b[39m1\u001b[39m] \u001b[39m==\u001b[39m \u001b[39m0\u001b[39m:\n\u001b[1;32m     26\u001b[0m         tau \u001b[39m=\u001b[39m \u001b[39m-\u001b[39m\u001b[39m1.\u001b[39m\u001b[39m/\u001b[39mlambda_\u001b[39m*\u001b[39mlog(random())  \u001b[39m# inter-event time when N(t)=0\u001b[39;00m\n",
      "\u001b[0;31mTypeError\u001b[0m: '<' not supported between instances of 'complex' and 'int'"
     ]
    }
   ],
   "source": [
    "from matplotlib import *\n",
    "from matplotlib.pyplot import plot, xlabel, ylabel\n",
    "\n",
    "\n",
    "T,N = generate_MM1()\n",
    "rcParams['figure.figsize'] = [15,3]\n",
    "plot(T,N,'.b')\n",
    "xlabel('Time')\n",
    "ylabel('Number of customers')"
   ]
  }
 ],
 "metadata": {
  "kernelspec": {
   "display_name": "Python 3",
   "language": "python",
   "name": "python3"
  },
  "language_info": {
   "codemirror_mode": {
    "name": "ipython",
    "version": 3
   },
   "file_extension": ".py",
   "mimetype": "text/x-python",
   "name": "python",
   "nbconvert_exporter": "python",
   "pygments_lexer": "ipython3",
   "version": "3.9.2"
  },
  "orig_nbformat": 4,
  "vscode": {
   "interpreter": {
    "hash": "916dbcbb3f70747c44a77c7bcd40155683ae19c65e1c03b4aa3499c5328201f1"
   }
  }
 },
 "nbformat": 4,
 "nbformat_minor": 2
}
